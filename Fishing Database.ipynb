{
 "cells": [
  {
   "cell_type": "code",
   "execution_count": 4,
   "metadata": {},
   "outputs": [
    {
     "name": "stdout",
     "output_type": "stream",
     "text": [
      "Requirement already satisfied: mysql-connector-python==8.0.17 in c:\\programdata\\anaconda3\\lib\\site-packages (8.0.17)\n",
      "Requirement already satisfied: protobuf>=3.0.0 in c:\\programdata\\anaconda3\\lib\\site-packages (from mysql-connector-python==8.0.17) (3.15.3)\n",
      "Requirement already satisfied: six>=1.9 in c:\\programdata\\anaconda3\\lib\\site-packages (from protobuf>=3.0.0->mysql-connector-python==8.0.17) (1.15.0)\n",
      "Note: you may need to restart the kernel to use updated packages.\n"
     ]
    }
   ],
   "source": [
    "pip install mysql-connector-python==8.0.17"
   ]
  },
  {
   "cell_type": "code",
   "execution_count": 13,
   "metadata": {},
   "outputs": [
    {
     "name": "stdout",
     "output_type": "stream",
     "text": [
      "Success\n"
     ]
    }
   ],
   "source": [
    "import mysql.connector as conn\n",
    "mydb = conn.connect(\n",
    "    host=\"localhost\",\n",
    "    user=\"root\",\n",
    "    password=\"nancywachira\",\n",
    "    database=\"Fishing\")\n",
    "print(\"Success\")"
   ]
  },
  {
   "cell_type": "code",
   "execution_count": 15,
   "metadata": {},
   "outputs": [
    {
     "name": "stdout",
     "output_type": "stream",
     "text": [
      "Database created\n"
     ]
    }
   ],
   "source": [
    "mycursor = mydb.cursor()\n",
    "mycursor.execute(\"CREATE DATABASE IF NOT EXISTS Fishing\")\n",
    "print(\"Database created\")"
   ]
  },
  {
   "cell_type": "code",
   "execution_count": 16,
   "metadata": {},
   "outputs": [
    {
     "name": "stdout",
     "output_type": "stream",
     "text": [
      "('academics',)\n",
      "('fishing',)\n",
      "('healthrecords',)\n",
      "('healthrecords1',)\n",
      "('information_schema',)\n",
      "('mydatabase',)\n",
      "('mydatabase12',)\n",
      "('mysql',)\n",
      "('performance_schema',)\n",
      "('test',)\n"
     ]
    }
   ],
   "source": [
    "mycursor.execute(\"SHOW DATABASES\")\n",
    "\n",
    "for x in mycursor:\n",
    "  print(x)"
   ]
  },
  {
   "cell_type": "code",
   "execution_count": 18,
   "metadata": {},
   "outputs": [
    {
     "name": "stdout",
     "output_type": "stream",
     "text": [
      "Boat_Table created\n"
     ]
    }
   ],
   "source": [
    "import mysql.connector as conn\n",
    "\n",
    "mydb = conn.connect(\n",
    "    host=\"localhost\",\n",
    "    user=\"root\",\n",
    "    password=\"nancywachira\",\n",
    "    database=\"Fishing\")\n",
    "\n",
    "mycursor = mydb.cursor()\n",
    "\n",
    "mycursor.execute(\"CREATE TABLE IF NOT EXISTS Boat_Table (Boat_Id INT PRIMARY KEY,Boat_Name VARCHAR(100),Boat_Size INT,Boat_Lenght INT, Station_Id INT, Boat_Capacity INT, Fishing Boolean)\")\n",
    "print(\"Boat_Table created\")"
   ]
  },
  {
   "cell_type": "code",
   "execution_count": 19,
   "metadata": {},
   "outputs": [
    {
     "name": "stdout",
     "output_type": "stream",
     "text": [
      "Fisher_table created\n"
     ]
    }
   ],
   "source": [
    "import mysql.connector as conn\n",
    "\n",
    "mydb = conn.connect(\n",
    "    host=\"localhost\",\n",
    "    user=\"root\",\n",
    "    password=\"nancywachira\",\n",
    "    database=\"Fishing\")\n",
    "\n",
    "mycursor = mydb.cursor()\n",
    "mycursor.execute(\"CREATE TABLE Fisher_Table (FisherPerson_Id INT PRIMARY KEY,Fisher_Name VARCHAR(100),Boat_Id INT, Phone_Number INT, Email_Address VARCHAR(100), Age INT)\")\n",
    "print(\"Fisher_table created\")"
   ]
  },
  {
   "cell_type": "code",
   "execution_count": 20,
   "metadata": {},
   "outputs": [
    {
     "name": "stdout",
     "output_type": "stream",
     "text": [
      "Owner_Table created\n"
     ]
    }
   ],
   "source": [
    "import mysql.connector as conn\n",
    "\n",
    "mydb = conn.connect(\n",
    "    host=\"localhost\",\n",
    "    user=\"root\",\n",
    "    password=\"nancywachira\",\n",
    "    database=\"Fishing\")\n",
    "\n",
    "mycursor = mydb.cursor()\n",
    "mycursor.execute(\"CREATE TABLE Owner_Table (Owner_Id INT PRIMARY KEY, Owner_Name VARCHAR(100),Boat_Id INT, Phone_Number INT, Email_Address VARCHAR(100))\")\n",
    "print(\"Owner_Table created\")"
   ]
  },
  {
   "cell_type": "code",
   "execution_count": 21,
   "metadata": {},
   "outputs": [
    {
     "name": "stdout",
     "output_type": "stream",
     "text": [
      "Station_Table created\n"
     ]
    }
   ],
   "source": [
    "import mysql.connector as conn\n",
    "\n",
    "mydb = conn.connect(\n",
    "    host=\"localhost\",\n",
    "    user=\"root\",\n",
    "    password=\"nancywachira\",\n",
    "    database=\"Fishing\")\n",
    "\n",
    "mycursor = mydb.cursor()\n",
    "mycursor.execute(\"CREATE TABLE Station (Station_Id INT PRIMARY KEY, Station_Name VARCHAR(100), Address VARCHAR(100))\")\n",
    "print(\"Station_Table created\")"
   ]
  },
  {
   "cell_type": "code",
   "execution_count": 29,
   "metadata": {},
   "outputs": [
    {
     "name": "stdout",
     "output_type": "stream",
     "text": [
      "Records added to Boat_Table\n"
     ]
    }
   ],
   "source": [
    "import mysql.connector as conn\n",
    "import csv\n",
    "mydb = conn.connect(\n",
    "    host=\"localhost\",\n",
    "    user=\"root\",\n",
    "    password=\"nancywachira\",\n",
    "    database=\"Fishing\")\n",
    "\n",
    "mycursor = mydb.cursor()\n",
    "\n",
    "# Read from csv file\n",
    "Njoki = csv.reader(open(r\"C:\\Users\\User\\Downloads\\Boat_Table (2).csv\",'r'))\n",
    "next(Njoki) #Skip the first row \n",
    "    \n",
    "    #insert records line by line\n",
    "for row in Njoki:\n",
    "    mycursor.execute('INSERT IGNORE INTO Boat_Table(Boat_ID, Boat_Name, Boat_Size, Boat_Lenght, Station_ID, Boat_Capacity, Fishing) VALUES(%s,%s,%s,%s,%s,%s,%s)',row)\n",
    "mydb.commit() \n",
    "print(\"Records added to Boat_Table\")"
   ]
  },
  {
   "cell_type": "code",
   "execution_count": 30,
   "metadata": {},
   "outputs": [
    {
     "name": "stdout",
     "output_type": "stream",
     "text": [
      "Records added to Fisher_Table\n"
     ]
    }
   ],
   "source": [
    "import mysql.connector as conn\n",
    "import csv\n",
    "mydb = conn.connect(\n",
    "    host=\"localhost\",\n",
    "    user=\"root\",\n",
    "    password=\"nancywachira\",\n",
    "    database=\"Fishing\")\n",
    "\n",
    "mycursor = mydb.cursor()\n",
    "\n",
    "# Read from csv file\n",
    "Njoki1 = csv.reader(open(r\"C:\\Users\\User\\Downloads\\Fisher_Table.csv\",'r'))\n",
    "next(Njoki1) #Skip the first row \n",
    "    \n",
    "    #insert records line by line\n",
    "for row in Njoki1:\n",
    "    mycursor.execute('INSERT IGNORE INTO Fisher_Table(FisherPerson_ID, Fisher_Name, Boat_Id, Phone_Number, Email_Address, Age) VALUES(%s,%s,%s,%s,%s,%s)',row)\n",
    "mydb.commit() \n",
    "print(\"Records added to Fisher_Table\")"
   ]
  },
  {
   "cell_type": "code",
   "execution_count": 32,
   "metadata": {},
   "outputs": [
    {
     "name": "stdout",
     "output_type": "stream",
     "text": [
      "Records added to Owner_Table\n"
     ]
    }
   ],
   "source": [
    "import mysql.connector as conn\n",
    "import csv\n",
    "mydb = conn.connect(\n",
    "    host=\"localhost\",\n",
    "    user=\"root\",\n",
    "    password=\"nancywachira\",\n",
    "    database=\"Fishing\")\n",
    "\n",
    "mycursor = mydb.cursor()\n",
    "\n",
    "# Read from csv file\n",
    "Njoki2 = csv.reader(open(r\"C:\\Users\\User\\Downloads\\Owner_Table.csv\",'r'))\n",
    "next(Njoki2) #Skip the first row \n",
    "    \n",
    "    #insert records line by line\n",
    "for row in Njoki2:\n",
    "    mycursor.execute('INSERT IGNORE INTO Owner_Table(Owner_ID, Owner_Name, Boat_Id, Phone_Number, Email_Address) VALUES(%s,%s,%s,%s,%s)',row)\n",
    "mydb.commit() \n",
    "print(\"Records added to Owner_Table\")"
   ]
  },
  {
   "cell_type": "code",
   "execution_count": 2,
   "metadata": {},
   "outputs": [
    {
     "name": "stdout",
     "output_type": "stream",
     "text": [
      "Records added to Station_Table\n"
     ]
    }
   ],
   "source": [
    "import mysql.connector as conn\n",
    "import csv\n",
    "mydb = conn.connect(\n",
    "    host=\"localhost\",\n",
    "    user=\"root\",\n",
    "    password=\"nancywachira\",\n",
    "    database=\"Fishing\")\n",
    "\n",
    "mycursor = mydb.cursor()\n",
    "\n",
    "# Read from csv file\n",
    "Njoki3 = csv.reader(open(r\"C:\\Users\\User\\Downloads\\Station_2.csv\",'r'))\n",
    "next(Njoki3) #Skip the first row \n",
    "    \n",
    "    #insert records line by line\n",
    "for row in Njoki3:\n",
    "    mycursor.execute('INSERT IGNORE INTO Station(Station_ID, Station_Name, Address) VALUES(%s,%s,%s)',row)\n",
    "mydb.commit() \n",
    "print(\"Records added to Station_Table\")"
   ]
  },
  {
   "cell_type": "code",
   "execution_count": 8,
   "metadata": {},
   "outputs": [
    {
     "name": "stdout",
     "output_type": "stream",
     "text": [
      "(900, 'Wabilianga', 300000, 890, 45, 40, 0, 45, 'Dunga', '234_Kisumu')\n"
     ]
    }
   ],
   "source": [
    "import mysql.connector as conn\n",
    "import csv\n",
    "mydb = conn.connect(\n",
    "    host=\"localhost\",\n",
    "    user=\"root\",\n",
    "    password=\"nancywachira\",\n",
    "    database=\"Fishing\")\n",
    "\n",
    "mycursor = mydb.cursor()\n",
    "mycursor.execute(\"SELECT * FROM Boat_Table INNER JOIN Station\\\n",
    "         ON Boat_Table.Station_Id = Station.Station_Id\")\n",
    "\n",
    "for x in mycursor.fetchall():\n",
    "    print (x)"
   ]
  },
  {
   "cell_type": "code",
   "execution_count": 10,
   "metadata": {},
   "outputs": [
    {
     "name": "stdout",
     "output_type": "stream",
     "text": [
      "(11, 'Otieno_Jacob', 900, 722690681, 'otieno@gmail.com', 31, 900, 'Wabilianga', 300000, 890, 45, 40, 0, 91, 'Mercy_Nanjala', 900, 734567890, 'najala@gmail.com')\n",
      "(12, 'Omondi_Joseph', 800, 723456789, 'josepho@yahoo.com', 32, 800, 'Simiyu', 500000, 670, 23, 12, 0, 92, 'Emmah_Kamau', 800, 723456789, 'kama@yahoo.com')\n",
      "(13, 'Onyango_Peter', 234, 702357406, 'peter@yahoo.co.ke', 56, 234, 'Wachwaka', 800000, 865, 34, 15, 0, 93, 'Prisque_Angali', 234, 734568907, 'angalia@gmail.com')\n",
      "(14, 'Ojamog_Alice', 400, 726025069, 'aliceo@gmail.com', 19, 400, 'Nabisu', 200000, 500, 76, 17, 0, 94, 'Jackton_Nabisu', 400, 789234567, 'nabisuc@yahoo.com')\n",
      "(16, 'Odunga_George', 100, 715234567, 'georgeo@yahoo.com', 49, 100, 'Kimwaka', 600000, 300, 10, 39, 0, 95, 'Simon_Abicha', 100, 798234567, 'abishas@gmail.com')\n"
     ]
    }
   ],
   "source": [
    "\n",
    "import mysql.connector as conn\n",
    "import csv\n",
    "mydb = conn.connect(\n",
    "    host=\"localhost\",\n",
    "    user=\"root\",\n",
    "    password=\"nancywachira\",\n",
    "    database=\"Fishing\")\n",
    "\n",
    "mycursor = mydb.cursor()\n",
    "mycursor.execute(\"SELECT * FROM Fisher_Table INNER JOIN Boat_Table \\\n",
    "         ON Fisher_Table.Boat_Id = Boat_Table.Boat_Id\\\n",
    "          INNER JOIN Owner_Table ON Owner_Table.Boat_Id = Boat_Table.Boat_Id\")\n",
    "for x in mycursor.fetchall():\n",
    "    print (x)"
   ]
  },
  {
   "cell_type": "code",
   "execution_count": null,
   "metadata": {},
   "outputs": [],
   "source": []
  }
 ],
 "metadata": {
  "kernelspec": {
   "display_name": "Python 3",
   "language": "python",
   "name": "python3"
  },
  "language_info": {
   "codemirror_mode": {
    "name": "ipython",
    "version": 3
   },
   "file_extension": ".py",
   "mimetype": "text/x-python",
   "name": "python",
   "nbconvert_exporter": "python",
   "pygments_lexer": "ipython3",
   "version": "3.8.5"
  }
 },
 "nbformat": 4,
 "nbformat_minor": 4
}
